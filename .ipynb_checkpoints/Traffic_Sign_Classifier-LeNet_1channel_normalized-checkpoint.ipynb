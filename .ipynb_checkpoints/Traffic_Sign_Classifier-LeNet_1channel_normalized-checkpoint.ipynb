{
 "cells": [
  {
   "cell_type": "markdown",
   "metadata": {},
   "source": [
    "# Self-Driving Car Engineer Nanodegree\n",
    "\n",
    "## Deep Learning\n",
    "\n",
    "## Project: Build a Traffic Sign Recognition Classifier\n",
    "\n",
    "In this notebook, a template is provided for you to implement your functionality in stages, which is required to successfully complete this project. If additional code is required that cannot be included in the notebook, be sure that the Python code is successfully imported and included in your submission if necessary. \n",
    "\n",
    "> **Note**: Once you have completed all of the code implementations, you need to finalize your work by exporting the iPython Notebook as an HTML document. Before exporting the notebook to html, all of the code cells need to have been run so that reviewers can see the final implementation and output. You can then export the notebook by using the menu above and navigating to  \\n\",\n",
    "    \"**File -> Download as -> HTML (.html)**. Include the finished document along with this notebook as your submission. \n",
    "\n",
    "In addition to implementing code, there is a writeup to complete. The writeup should be completed in a separate file, which can be either a markdown file or a pdf document. There is a [write up template](https://github.com/udacity/CarND-Traffic-Sign-Classifier-Project/blob/master/writeup_template.md) that can be used to guide the writing process. Completing the code template and writeup template will cover all of the [rubric points](https://review.udacity.com/#!/rubrics/481/view) for this project.\n",
    "\n",
    "The [rubric](https://review.udacity.com/#!/rubrics/481/view) contains \"Stand Out Suggestions\" for enhancing the project beyond the minimum requirements. The stand out suggestions are optional. If you decide to pursue the \"stand out suggestions\", you can include the code in this Ipython notebook and also discuss the results in the writeup file.\n",
    "\n",
    "\n",
    ">**Note:** Code and Markdown cells can be executed using the **Shift + Enter** keyboard shortcut. In addition, Markdown cells can be edited by typically double-clicking the cell to enter edit mode."
   ]
  },
  {
   "cell_type": "markdown",
   "metadata": {},
   "source": [
    "---\n",
    "## Step 0: Load The Data"
   ]
  },
  {
   "cell_type": "code",
   "execution_count": 1,
   "metadata": {
    "collapsed": true
   },
   "outputs": [],
   "source": [
    "# Load pickled data\n",
    "import pickle\n",
    "\n",
    "# TODO: Fill this in based on where you saved the training and testing data\n",
    "\n",
    "training_file = '../../../data/train.p'\n",
    "validation_file='../../../data/valid.p'\n",
    "testing_file = '../../../data/test.p'\n",
    "\n",
    "with open(training_file, mode='rb') as f:\n",
    "    train = pickle.load(f)\n",
    "with open(validation_file, mode='rb') as f:\n",
    "    valid = pickle.load(f)\n",
    "with open(testing_file, mode='rb') as f:\n",
    "    test = pickle.load(f)\n",
    "    \n",
    "X_train, y_train, sizes_train, coords_train = train['features'], train['labels'], train['sizes'], train['coords']\n",
    "X_validation, y_validation, sizes_validation, coords_validation = valid['features'], valid['labels'], valid['sizes'], valid['coords']\n",
    "X_test, y_test, sizes_test, coords_test = test['features'], test['labels'], test['sizes'], test['coords']"
   ]
  },
  {
   "cell_type": "markdown",
   "metadata": {},
   "source": [
    "---\n",
    "\n",
    "## Step 1: Dataset Summary & Exploration\n",
    "\n",
    "The pickled data is a dictionary with 4 key/value pairs:\n",
    "\n",
    "- `'features'` is a 4D array containing raw pixel data of the traffic sign images, (num examples, width, height, channels).\n",
    "- `'labels'` is a 1D array containing the label/class id of the traffic sign. The file `signnames.csv` contains id -> name mappings for each id.\n",
    "- `'sizes'` is a list containing tuples, (width, height) representing the original width and height the image.\n",
    "- `'coords'` is a list containing tuples, (x1, y1, x2, y2) representing coordinates of a bounding box around the sign in the image. **THESE COORDINATES ASSUME THE ORIGINAL IMAGE. THE PICKLED DATA CONTAINS RESIZED VERSIONS (32 by 32) OF THESE IMAGES**\n",
    "\n",
    "Complete the basic data summary below. Use python, numpy and/or pandas methods to calculate the data summary rather than hard coding the results. For example, the [pandas shape method](http://pandas.pydata.org/pandas-docs/stable/generated/pandas.DataFrame.shape.html) might be useful for calculating some of the summary results. "
   ]
  },
  {
   "cell_type": "markdown",
   "metadata": {},
   "source": [
    "### Provide a Basic Summary of the Data Set Using Python, Numpy and/or Pandas"
   ]
  },
  {
   "cell_type": "code",
   "execution_count": 2,
   "metadata": {},
   "outputs": [
    {
     "name": "stdout",
     "output_type": "stream",
     "text": [
      "Number of training examples = 34799\n",
      "Number of testing examples = 12630\n",
      "Number of validation examples = 4410\n",
      "Image data shape = (32, 32, 3)\n",
      "Image array shape = (34799, 32, 32, 3)\n",
      "Number of classes = 43\n"
     ]
    }
   ],
   "source": [
    "### Replace each question mark with the appropriate value. \n",
    "### Use python, pandas or numpy methods rather than hard coding the results\n",
    "\n",
    "# TODO: Number of training examples\n",
    "n_train = len(X_train)\n",
    "\n",
    "# TODO: Number of validation examples\n",
    "n_validation = len(X_validation)\n",
    "\n",
    "# TODO: Number of testing examples.\n",
    "n_test = len(X_test)\n",
    "\n",
    "# TODO: What's the shape of an traffic sign image?\n",
    "image_shape = X_train[0].shape\n",
    "\n",
    "# TODO: How many unique classes/labels there are in the dataset.\n",
    "n_classes = len(set(y_train))\n",
    "\n",
    "\n",
    "print(\"Number of training examples =\", n_train)\n",
    "print(\"Number of testing examples =\", n_test)\n",
    "print(\"Number of validation examples =\", n_validation)\n",
    "print(\"Image data shape =\", image_shape)\n",
    "print(\"Image array shape =\", X_train.shape)\n",
    "print(\"Number of classes =\", n_classes)\n"
   ]
  },
  {
   "cell_type": "markdown",
   "metadata": {},
   "source": [
    "### Include an exploratory visualization of the dataset"
   ]
  },
  {
   "cell_type": "markdown",
   "metadata": {},
   "source": [
    "Visualize the German Traffic Signs Dataset using the pickled file(s). This is open ended, suggestions include: plotting traffic sign images, plotting the count of each sign, etc. \n",
    "\n",
    "The [Matplotlib](http://matplotlib.org/) [examples](http://matplotlib.org/examples/index.html) and [gallery](http://matplotlib.org/gallery.html) pages are a great resource for doing visualizations in Python.\n",
    "\n",
    "**NOTE:** It's recommended you start with something simple first. If you wish to do more, come back to it after you've completed the rest of the sections. It can be interesting to look at the distribution of classes in the training, validation and test set. Is the distribution the same? Are there more examples of some classes than others?"
   ]
  },
  {
   "cell_type": "code",
   "execution_count": 3,
   "metadata": {
    "collapsed": true
   },
   "outputs": [],
   "source": [
    "### Data exploration visualization code goes here.\n",
    "### Feel free to use as many code cells as needed.\n",
    "import matplotlib.pyplot as plt\n",
    "\n",
    "# Define image plot function\n",
    "# Default size 3x3\n",
    "def plotImage(img, image_type, image_label):\n",
    "    plt.figure(figsize=(3,3))\n",
    "    plt.title(image_type + ' Image'+', '+'Label ID:'+str(image_label))\n",
    "    plt.imshow(img, cmap=\"gray\")"
   ]
  },
  {
   "cell_type": "code",
   "execution_count": 4,
   "metadata": {},
   "outputs": [
    {
     "data": {
      "image/png": "[encoded data removed]",
      "text/plain": [
       "<matplotlib.figure.Figure at 0x7ff35fea02b0>"
      ]
     },
     "metadata": {},
     "output_type": "display_data"
    },
    {
     "data": {
      "image/png": "[encoded data removed]",
      "text/plain": [
       "<matplotlib.figure.Figure at 0x7ff34b47ec50>"
      ]
     },
     "metadata": {},
     "output_type": "display_data"
    },
    {
     "data": {
      "image/png": "[encoded data removed]",
      "text/plain": [
       "<matplotlib.figure.Figure at 0x7ff39c1143c8>"
      ]
     },
     "metadata": {},
     "output_type": "display_data"
    },
    {
     "data": {
      "image/png": "[encoded data removed]",
      "text/plain": [
       "<matplotlib.figure.Figure at 0x7ff348cccb70>"
      ]
     },
     "metadata": {},
     "output_type": "display_data"
    },
    {
     "name": "stdout",
     "output_type": "stream",
     "text": [
      "Largest class = (2, 2010)\n",
      "Smallest class = (0, 180)\n",
      "Inspect classCounterDict ...\n"
     ]
    },
    {
     "data": {
      "text/plain": [
       "{0: 0,\n",
       " 1: 0,\n",
       " 2: 0,\n",
       " 3: 0,\n",
       " 4: 0,\n",
       " 5: 0,\n",
       " 6: 0,\n",
       " 7: 0,\n",
       " 8: 0,\n",
       " 9: 0,\n",
       " 10: 0,\n",
       " 11: 0,\n",
       " 12: 0,\n",
       " 13: 0,\n",
       " 14: 0,\n",
       " 15: 0,\n",
       " 16: 0,\n",
       " 17: 0,\n",
       " 18: 0,\n",
       " 19: 0,\n",
       " 20: 0,\n",
       " 21: 0,\n",
       " 22: 0,\n",
       " 23: 0,\n",
       " 24: 0,\n",
       " 25: 0,\n",
       " 26: 0,\n",
       " 27: 0,\n",
       " 28: 0,\n",
       " 29: 0,\n",
       " 30: 0,\n",
       " 31: 0,\n",
       " 32: 0,\n",
       " 33: 0,\n",
       " 34: 0,\n",
       " 35: 0,\n",
       " 36: 0,\n",
       " 37: 0,\n",
       " 38: 0,\n",
       " 39: 0,\n",
       " 40: 0,\n",
       " 41: 0,\n",
       " 42: 0}"
      ]
     },
     "execution_count": 4,
     "metadata": {},
     "output_type": "execute_result"
    }
   ],
   "source": [
    "import numpy as np\n",
    "import random\n",
    "import cv2\n",
    "from collections import Counter\n",
    "from operator import itemgetter\n",
    "import scipy.ndimage as ndimage\n",
    "#from scipy import ndimage\n",
    "import copy\n",
    "import math\n",
    "import time\n",
    "\n",
    "#jl Experiment convert all images to float32.  We may consider removing this if it makes no difference\n",
    "#X_train=X_train.astype(np.float32)\n",
    "#X_validation=X_validation.astype(np.float32)\n",
    "#X_test=X_test.astype(np.float32)\n",
    "\n",
    "\n",
    "\n",
    "# Visualizations will be shown in the notebook.\n",
    "%matplotlib inline\n",
    "\n",
    "# Sample training image\n",
    "index=random.randint(0, len(X_train))\n",
    "train_image = X_train[index].squeeze()\n",
    "plotImage(train_image, 'Train', y_train[index])\n",
    "\n",
    "# Sample test image\n",
    "index=random.randint(0, len(X_test))\n",
    "test_image = X_test[index].squeeze()\n",
    "plotImage(test_image, 'Test', y_test[index])\n",
    "\n",
    "# Sample validation image\n",
    "index=random.randint(0, len(X_validation))\n",
    "valid_image = X_validation[index].squeeze()\n",
    "plotImage(valid_image, 'Valid', y_validation[index])\n",
    "\n",
    "# Explore and visualize the distribution of classes/labels\n",
    "z = list(range(min(y_train),max(y_train)+1))\n",
    "classDist = Counter(y_train).items()\n",
    "classDist = sorted(classDist, key=lambda x: x[1])\n",
    "labels, values = zip(*classDist)\n",
    "indexes = np.arange(len(labels))\n",
    "width = 1\n",
    "\n",
    "plt.figure(figsize=(20,10))\n",
    "#plt.bar(range(len(classDist)), classDist.values(), align='center')\n",
    "plt.bar(indexes, values, width)\n",
    "plt.xticks(indexes + width * 0.2, labels)\n",
    "plt.title('Class Distribution')\n",
    "#plt.xticks(range(len(classDist)), list(classDist.keys()))\n",
    "\n",
    "plt.show()\n",
    "\n",
    "print(\"Largest class =\", max(classDist, key=lambda x: x[1]))\n",
    "print(\"Smallest class =\", min(classDist, key=lambda x: x[1]))\n",
    "\n",
    "maxClassSize = max(classDist, key=lambda x: x[1])[1] # example of extracting value from the tuple.  the value is the second element indicated by index 1\n",
    "minClassSize = min(classDist, key=lambda x: x[1])[1]\n",
    "\n",
    "# Data inspection done but before going further save off some important stats\n",
    "# Save a copy of the distribution prior to modification.  The copy will be used to track total counts\n",
    "classCounterDict = dict(classDist)\n",
    "\n",
    "# But really we want to keep the keys and start will all the counters set to zero\n",
    "classCounterDict = dict.fromkeys(classCounterDict,0)\n",
    "print('Inspect classCounterDict ...')\n",
    "\n",
    "\n",
    "# Modify the class dictionary to include augmentation size\n",
    "for index, classSize in enumerate(classDist, start=0):\n",
    "    imageClass = classDist[index][0]\n",
    "    classSize = classDist[index][1]\n",
    "    \n",
    "    augmentSize = math.floor((maxClassSize-classSize) / classSize)\n",
    "    classDist[index]+=(augmentSize,)\n",
    "    #print(classDist[index])\n",
    "\n",
    "# Convert the class 3-tuple list distribution into a dictionary\n",
    "# This method of creating the dictionary is required because this is 3-tuple, not 2-tuple list.\n",
    "# Result is a key based on position 1 element of the tuple (label)\n",
    "# Position 2 of the tuple is the size of the label class\n",
    "# Position 3 or the tuple is the computed augmentation size per image to be applied\n",
    "# So to use this classDict dictionary classDict[label][0] => size of the label class and\n",
    "# classDict[label][1] => augmentation size\n",
    "classDict = dict([ (k[0], k[1:]) for k in classDist ])\n",
    "\n",
    "#print('Inspect classDict ...')\n",
    "#classDict\n",
    "classCounterDict"
   ]
  },
  {
   "cell_type": "code",
   "execution_count": 5,
   "metadata": {},
   "outputs": [
    {
     "data": {
      "text/plain": [
       "array([[[21, 20, 24],\n",
       "        [19, 18, 20],\n",
       "        [21, 19, 22],\n",
       "        ..., \n",
       "        [17, 16, 19],\n",
       "        [18, 18, 21],\n",
       "        [19, 20, 24]],\n",
       "\n",
       "       [[18, 18, 21],\n",
       "        [19, 18, 22],\n",
       "        [19, 18, 21],\n",
       "        ..., \n",
       "        [20, 20, 24],\n",
       "        [29, 29, 31],\n",
       "        [33, 31, 35]],\n",
       "\n",
       "       [[18, 18, 21],\n",
       "        [18, 18, 21],\n",
       "        [18, 17, 20],\n",
       "        ..., \n",
       "        [25, 28, 32],\n",
       "        [43, 42, 46],\n",
       "        [45, 40, 46]],\n",
       "\n",
       "       ..., \n",
       "       [[28, 28, 29],\n",
       "        [23, 24, 24],\n",
       "        [21, 21, 21],\n",
       "        ..., \n",
       "        [26, 25, 26],\n",
       "        [23, 23, 24],\n",
       "        [22, 22, 23]],\n",
       "\n",
       "       [[29, 31, 31],\n",
       "        [20, 21, 21],\n",
       "        [19, 20, 21],\n",
       "        ..., \n",
       "        [22, 21, 21],\n",
       "        [21, 21, 22],\n",
       "        [20, 20, 20]],\n",
       "\n",
       "       [[26, 26, 26],\n",
       "        [22, 22, 23],\n",
       "        [19, 19, 21],\n",
       "        ..., \n",
       "        [21, 21, 21],\n",
       "        [24, 24, 26],\n",
       "        [27, 25, 25]]], dtype=uint8)"
      ]
     },
     "execution_count": 5,
     "metadata": {},
     "output_type": "execute_result"
    }
   ],
   "source": [
    "train_image"
   ]
  },
  {
   "cell_type": "code",
   "execution_count": 6,
   "metadata": {},
   "outputs": [
    {
     "data": {
      "text/plain": [
       "numpy.uint8"
      ]
     },
     "execution_count": 6,
     "metadata": {},
     "output_type": "execute_result"
    }
   ],
   "source": [
    "type(train_image[0][0][0])"
   ]
  },
  {
   "cell_type": "markdown",
   "metadata": {},
   "source": [
    "----\n",
    "\n",
    "## Step 2: Design and Test a Model Architecture\n",
    "\n",
    "Design and implement a deep learning model that learns to recognize traffic signs. Train and test your model on the [German Traffic Sign Dataset](http://benchmark.ini.rub.de/?section=gtsrb&subsection=dataset).\n",
    "\n",
    "The LeNet-5 implementation shown in the [classroom](https://classroom.udacity.com/nanodegrees/nd013/parts/fbf77062-5703-404e-b60c-95b78b2f3f9e/modules/6df7ae49-c61c-4bb2-a23e-6527e69209ec/lessons/601ae704-1035-4287-8b11-e2c2716217ad/concepts/d4aca031-508f-4e0b-b493-e7b706120f81) at the end of the CNN lesson is a solid starting point. You'll have to change the number of classes and possibly the preprocessing, but aside from that it's plug and play! \n",
    "\n",
    "With the LeNet-5 solution from the lecture, you should expect a validation set accuracy of about 0.89. To meet specifications, the validation set accuracy will need to be at least 0.93. It is possible to get an even higher accuracy, but 0.93 is the minimum for a successful project submission. \n",
    "\n",
    "There are various aspects to consider when thinking about this problem:\n",
    "\n",
    "- Neural network architecture (is the network over or underfitting?)\n",
    "- Play around preprocessing techniques (normalization, rgb to grayscale, etc)\n",
    "- Number of examples per label (some have more than others).\n",
    "- Generate fake data.\n",
    "\n",
    "Here is an example of a [published baseline model on this problem](http://yann.lecun.com/exdb/publis/pdf/sermanet-ijcnn-11.pdf). It's not required to be familiar with the approach used in the paper but, it's good practice to try to read papers like these."
   ]
  },
  {
   "cell_type": "markdown",
   "metadata": {},
   "source": [
    "### Pre-process the Data Set (normalization, grayscale, etc.)"
   ]
  },
  {
   "cell_type": "markdown",
   "metadata": {},
   "source": [
    "Minimally, the image data should be normalized so that the data has mean zero and equal variance. For image data, `(pixel - 128)/ 128` is a quick way to approximately normalize the data and can be used in this project. \n",
    "\n",
    "Other pre-processing steps are optional. You can try different techniques to see if it improves performance. \n",
    "\n",
    "Use the code cell (or multiple code cells, if necessary) to implement the first step of your project."
   ]
  },
  {
   "cell_type": "code",
   "execution_count": 7,
   "metadata": {
    "collapsed": true
   },
   "outputs": [],
   "source": [
    "# Self defined rgb to grayscale functon\n",
    "def myrgb2gray(img):\n",
    "    r, g, b = img[:,:,0], img[:,:,1], img[:,:,2]\n",
    "    gray = 0.2989 * r + 0.5870 * g + 0.1140 * b\n",
    "    return gray\n",
    "\n",
    "# Deprecated normalize image function\n",
    "# We use min-max normalization instead\n",
    "def meanNormalize(img):\n",
    "    return ((img-128.)/128.)\n",
    "\n",
    "def normalize05(img):\n",
    "    return minmaxNormalize(img)-0.5\n",
    "\n",
    "# Define min max normalization of the image\n",
    "def minmaxNormalize(img):\n",
    "    imgMin = ndimage.minimum(img)\n",
    "    imgMax = ndimage.maximum(img)\n",
    "    return ((img-imgMin)/(imgMax-imgMin))\n",
    "\n",
    "def rgb2gray(img):\n",
    "    #img = np.uint8(img)\n",
    "    #img = cv2.cvtColor(img, cv2.COLOR_BGR2RGB)\n",
    "    img = cv2.cvtColor(img, cv2.COLOR_RGB2GRAY)\n",
    "    return img\n",
    "\n",
    "def normalize(img):\n",
    "    return normalize05(img)"
   ]
  },
  {
   "cell_type": "code",
   "execution_count": 8,
   "metadata": {
    "collapsed": true
   },
   "outputs": [],
   "source": [
    "# Generate a rotation augmented image within a given range of angles\n",
    "def rotate(img, start_angle, end_angle):\n",
    "    rotation_angle = random.uniform(start_angle, end_angle)\n",
    "    return ndimage.interpolation.rotate(img, rotation_angle, reshape=False, mode='nearest')"
   ]
  },
  {
   "cell_type": "code",
   "execution_count": 9,
   "metadata": {
    "collapsed": true
   },
   "outputs": [],
   "source": [
    "# Generate a blurred image using randomized sigma in given sigma range\n",
    "def blur(img, start_sigma, end_sigma):\n",
    "    randomSigma = random.uniform(start_sigma, end_sigma)\n",
    "    return ndimage.gaussian_filter(img, sigma=randomSigma)"
   ]
  },
  {
   "cell_type": "code",
   "execution_count": 10,
   "metadata": {},
   "outputs": [
    {
     "data": {
      "image/png": "[encoded data removed]",
      "text/plain": [
       "<matplotlib.figure.Figure at 0x7ff348c64518>"
      ]
     },
     "metadata": {},
     "output_type": "display_data"
    },
    {
     "data": {
      "image/png": "[encoded data removed]",
      "text/plain": [
       "<matplotlib.figure.Figure at 0x7ff348c5e2e8>"
      ]
     },
     "metadata": {},
     "output_type": "display_data"
    },
    {
     "data": {
      "image/png": "[encoded data removed]",
      "text/plain": [
       "<matplotlib.figure.Figure at 0x7ff348a91470>"
      ]
     },
     "metadata": {},
     "output_type": "display_data"
    }
   ],
   "source": [
    "train_rgb = cv2.cvtColor(train_image, cv2.COLOR_BGR2RGB)\n",
    "train_gray = rgb2gray(train_rgb)\n",
    "train_normalize = normalize(train_gray)\n",
    "plotImage(train_normalize, 'Train Preprocess', -999)\n",
    "\n",
    "train_rotate=rotate(train_normalize, 30, 45)\n",
    "train_blur=blur(train_normalize, 1.5, 1.75)\n",
    "plotImage(train_rotate, 'Train Rotate', -999)\n",
    "plotImage(train_blur, 'Train Blur', -999)"
   ]
  },
  {
   "cell_type": "code",
   "execution_count": 11,
   "metadata": {},
   "outputs": [
    {
     "name": "stdout",
     "output_type": "stream",
     "text": [
      "-0.5\n",
      "0.5\n"
     ]
    }
   ],
   "source": [
    "print(ndimage.minimum(train_normalize))\n",
    "print(ndimage.maximum(train_normalize))"
   ]
  },
  {
   "cell_type": "code",
   "execution_count": 12,
   "metadata": {},
   "outputs": [
    {
     "data": {
      "text/plain": [
       "numpy.ndarray"
      ]
     },
     "execution_count": 12,
     "metadata": {},
     "output_type": "execute_result"
    }
   ],
   "source": [
    "type(X_train)"
   ]
  },
  {
   "cell_type": "code",
   "execution_count": 13,
   "metadata": {
    "collapsed": true
   },
   "outputs": [],
   "source": [
    "from collections import deque\n",
    "\n",
    "# Data augmentation function\n",
    "# This can augment data based on more than one way.  e.g. rotation, blurring\n",
    "# Initially we start with just those two ways rotation and blurring and choose one or the other randomly\n",
    "# Additionally within each method selected, choose a random value (angle/sigma) from a uniform distribution inside\n",
    "# a predefined range\n",
    "# classDict contains the class label key and size (value) which is used to determine if a given image should be augmented\n",
    "# with the goal of creating a uniform distribution of classes\n",
    "def augment(X_train, y_train, classDict, classCounterDict):\n",
    "    # Define an image variable just to ensure scope is local\n",
    "    img = np.zeros(X_train[0].shape)\n",
    "    \n",
    "    # Store the new images in a deque which allows for fast insertion operations since numpy arrays perform\n",
    "    # poorly when inserting using things like vstack.\n",
    "    # Due to the use of deque we can still return the results in a numpy array after the queue insertions are complete\n",
    "    X_train_new = deque()\n",
    "    y_train_new = deque()\n",
    "    \n",
    "    # Initialize the resulting new array as an empty ndarray\n",
    "    # These arrays are 3-channel RGB images\n",
    "    #X_train_new = np.ndarray(shape=(0,32,32), dtype='uint8')\n",
    "    #y_train_new = np.ndarray(shape=(0,1), dtype='uint8')\n",
    "    # Initialize class counter (a dictionary)\n",
    "    classCounterDict = dict.fromkeys(classCounterDict,0)\n",
    "    \n",
    "    # loop through images\n",
    "    start_time = time.time()\n",
    "    for index, img in enumerate(X_train, start=0):\n",
    "        \n",
    "        img = X_train[index].squeeze()\n",
    "        train_label = y_train[index]\n",
    "\n",
    "        if (index%500 == 0):\n",
    "            end_time = time.time()\n",
    "            print('Starting batch: ',index, 'length:', len(X_train_new), ' ... elapsed time since last batch: ', end_time-start_time)\n",
    "            start_time = time.time()\n",
    "            \n",
    "        \n",
    "        # based on the label determine what is the augmentation size for that given label/class\n",
    "        augmentationSize = classDict[train_label][1]\n",
    "        #print(\"Image:\",index,\" ... has augmentation size:\",augmentationSize)\n",
    "\n",
    "        # grayscale it\n",
    "        grayscale = rgb2gray(img)\n",
    "\n",
    "        # normalize it\n",
    "        normalized = normalize(grayscale)\n",
    "        \n",
    "        #X_train_new = np.vstack((X_train_new, gimg[None, :])) # append the original image to the X_train_new\n",
    "        X_train_new.append(normalized)\n",
    "        y_train_new.append(train_label)\n",
    "        #y_train_new = np.vstack((y_train_new, train_label)) # append the original label to the y_train_new array\n",
    "        classCounterDict[train_label]+=1 # increment the counter for each image added of a particular type\n",
    "        \n",
    "        # initialize new image\n",
    "        #augmented_image = np.zeros(img.shape, dtype='uint8')\n",
    "        augmented_image = np.zeros(img.shape, dtype='float32')\n",
    "\n",
    "        if (augmentationSize == 0 & classCounterDict[train_label] < maxClassSize):\n",
    "            augmentationSize=1\n",
    "\n",
    "        for i in range(0,augmentationSize):\n",
    "            \n",
    "            # break out earlier for this label if we've already hit the desired class size\n",
    "            if (classCounterDict[train_label] >= maxClassSize):\n",
    "                break\n",
    "                \n",
    "            isRotate = (random.randint(0,1) == 0)\n",
    "            isBlur = (not(isRotate))\n",
    "\n",
    "            if (isRotate):\n",
    "                #print(i,\"\\t:rotate\")\n",
    "                augmented_image = rotate(img, -80.0, +80.0)\n",
    "            elif (isBlur):\n",
    "                #print(i,\"\\t:blur\")\n",
    "                augmented_image = blur(img, 0.1, 1.75)\n",
    "\n",
    "            # grayscale it\n",
    "            grayscale = rgb2gray(augmented_image)\n",
    "            \n",
    "            # normalize it\n",
    "            normalized = normalize(grayscale)\n",
    "                \n",
    "            # Append the augmented image to our new set of images\n",
    "            #X_train_new = np.vstack((X_train_new, gaugmented_image[None, :])) # append the original image to the X_train_new\n",
    "            X_train_new.append(normalized)\n",
    "            y_train_new.append(train_label)\n",
    "            #y_train_new = np.vstack((y_train_new, train_label)) # append the original label to the y_train_new array\n",
    "            classCounterDict[train_label]+=1 # increment the counter for each image added of a particular type\n",
    "\n",
    "            \n",
    "        #if (index == 4000):\n",
    "        #    break\n",
    "\n",
    "    new_total_augmented_size = len(X_train_new)\n",
    "    results={}\n",
    "    results['features']=np.array(X_train_new) # repackage the queue as a numpy array\n",
    "    results['labels']=np.array(y_train_new) # repackage the queue as a numpy array\n",
    "    results['sizes']=np.zeros(shape=(new_total_augmented_size,2))\n",
    "    results['coords']=np.zeros(shape=(new_total_augmented_size,4))\n",
    "    return results\n"
   ]
  },
  {
   "cell_type": "code",
   "execution_count": 14,
   "metadata": {
    "collapsed": true
   },
   "outputs": [],
   "source": [
    "from collections import deque\n",
    "\n",
    "# Pre-process function\n",
    "# This only pre-processes.  It doesn't augment and so the number size of the return array equals the input array\n",
    "#\n",
    "def preprocess(X_train, y_train):\n",
    "    # Define an image variable just to ensure scope is local\n",
    "    img = np.zeros(X_train[0].shape)\n",
    "    \n",
    "    # Store the new images in a deque which allows for fast insertion operations since numpy arrays perform\n",
    "    # poorly when inserting using things like vstack.\n",
    "    # Due to the use of deque we can still return the results in a numpy array after the queue insertions are complete\n",
    "    X_train_new = deque()\n",
    "    y_train_new = deque()\n",
    "    \n",
    "    # loop through images\n",
    "    start_time = time.time()\n",
    "    for index, img in enumerate(X_train, start=0):\n",
    "        \n",
    "        img = X_train[index].squeeze()\n",
    "        train_label = y_train[index]\n",
    "\n",
    "        if (index%500 == 0):\n",
    "            end_time = time.time()\n",
    "            print('Starting batch: ',index, 'length:', len(X_train_new), ' ... elapsed time since last batch: ', end_time-start_time)\n",
    "            start_time = time.time()\n",
    "\n",
    "        # grayscale it\n",
    "        grayscale = rgb2gray(img)\n",
    "\n",
    "        # normalize it\n",
    "        normalized = normalize(grayscale)\n",
    "        \n",
    "        #X_train_new = np.vstack((X_train_new, gimg[None, :])) # append the original image to the X_train_new\n",
    "        X_train_new.append(normalized)\n",
    "        y_train_new.append(train_label)\n",
    "\n",
    "\n",
    "    new_total_augmented_size = len(X_train_new)\n",
    "    results={}\n",
    "    results['features']=np.array(X_train_new) # repackage the queue as a numpy array\n",
    "    results['labels']=np.array(y_train_new) # repackage the queue as a numpy array\n",
    "    results['sizes']=np.zeros(shape=(new_total_augmented_size,2))\n",
    "    results['coords']=np.zeros(shape=(new_total_augmented_size,4))\n",
    "    return results\n"
   ]
  },
  {
   "cell_type": "code",
   "execution_count": 15,
   "metadata": {},
   "outputs": [
    {
     "name": "stdout",
     "output_type": "stream",
     "text": [
      "34799\n",
      "Starting batch:  0 length: 0  ... elapsed time since last batch:  6.67572021484375e-06\n",
      "Starting batch:  500 length: 500  ... elapsed time since last batch:  0.01483607292175293\n",
      "Starting batch:  1000 length: 1000  ... elapsed time since last batch:  0.015552997589111328\n",
      "Starting batch:  1500 length: 1500  ... elapsed time since last batch:  0.015006542205810547\n",
      "Starting batch:  2000 length: 2000  ... elapsed time since last batch:  0.01427149772644043\n",
      "Starting batch:  2500 length: 2500  ... elapsed time since last batch:  0.014610767364501953\n",
      "Starting batch:  3000 length: 3000  ... elapsed time since last batch:  0.014098167419433594\n",
      "Starting batch:  3500 length: 3500  ... elapsed time since last batch:  0.014003992080688477\n",
      "Starting batch:  4000 length: 4000  ... elapsed time since last batch:  0.014342069625854492\n",
      "Starting batch:  4500 length: 4500  ... elapsed time since last batch:  0.014548540115356445\n",
      "Starting batch:  5000 length: 5000  ... elapsed time since last batch:  0.014509439468383789\n",
      "Starting batch:  5500 length: 5500  ... elapsed time since last batch:  0.014261007308959961\n",
      "Starting batch:  6000 length: 6000  ... elapsed time since last batch:  0.014233112335205078\n",
      "Starting batch:  6500 length: 6500  ... elapsed time since last batch:  0.014873743057250977\n",
      "Starting batch:  7000 length: 7000  ... elapsed time since last batch:  0.01598501205444336\n",
      "Starting batch:  7500 length: 7500  ... elapsed time since last batch:  0.015726804733276367\n",
      "Starting batch:  8000 length: 8000  ... elapsed time since last batch:  0.015141487121582031\n",
      "Starting batch:  8500 length: 8500  ... elapsed time since last batch:  0.014524459838867188\n",
      "Starting batch:  9000 length: 9000  ... elapsed time since last batch:  0.014194250106811523\n",
      "Starting batch:  9500 length: 9500  ... elapsed time since last batch:  0.014127492904663086\n",
      "Starting batch:  10000 length: 10000  ... elapsed time since last batch:  0.014199495315551758\n",
      "Starting batch:  10500 length: 10500  ... elapsed time since last batch:  0.014212846755981445\n",
      "Starting batch:  11000 length: 11000  ... elapsed time since last batch:  0.014176368713378906\n",
      "Starting batch:  11500 length: 11500  ... elapsed time since last batch:  0.014305830001831055\n",
      "Starting batch:  12000 length: 12000  ... elapsed time since last batch:  0.015476703643798828\n",
      "Starting batch:  12500 length: 12500  ... elapsed time since last batch:  0.014549493789672852\n",
      "Starting batch:  13000 length: 13000  ... elapsed time since last batch:  0.014232873916625977\n",
      "Starting batch:  13500 length: 13500  ... elapsed time since last batch:  0.014328241348266602\n",
      "Starting batch:  14000 length: 14000  ... elapsed time since last batch:  0.015202999114990234\n",
      "Starting batch:  14500 length: 14500  ... elapsed time since last batch:  0.016016006469726562\n",
      "Starting batch:  15000 length: 15000  ... elapsed time since last batch:  0.014259815216064453\n",
      "Starting batch:  15500 length: 15500  ... elapsed time since last batch:  0.013910055160522461\n",
      "Starting batch:  16000 length: 16000  ... elapsed time since last batch:  0.014407873153686523\n",
      "Starting batch:  16500 length: 16500  ... elapsed time since last batch:  0.0145721435546875\n",
      "Starting batch:  17000 length: 17000  ... elapsed time since last batch:  0.014371395111083984\n",
      "Starting batch:  17500 length: 17500  ... elapsed time since last batch:  0.014385700225830078\n",
      "Starting batch:  18000 length: 18000  ... elapsed time since last batch:  0.014443159103393555\n",
      "Starting batch:  18500 length: 18500  ... elapsed time since last batch:  0.01422882080078125\n",
      "Starting batch:  19000 length: 19000  ... elapsed time since last batch:  0.014145135879516602\n",
      "Starting batch:  19500 length: 19500  ... elapsed time since last batch:  0.01427602767944336\n",
      "Starting batch:  20000 length: 20000  ... elapsed time since last batch:  0.01411581039428711\n",
      "Starting batch:  20500 length: 20500  ... elapsed time since last batch:  0.014270305633544922\n",
      "Starting batch:  21000 length: 21000  ... elapsed time since last batch:  0.015409708023071289\n",
      "Starting batch:  21500 length: 21500  ... elapsed time since last batch:  0.015897035598754883\n",
      "Starting batch:  22000 length: 22000  ... elapsed time since last batch:  0.014648199081420898\n",
      "Starting batch:  22500 length: 22500  ... elapsed time since last batch:  0.01441049575805664\n",
      "Starting batch:  23000 length: 23000  ... elapsed time since last batch:  0.014358282089233398\n",
      "Starting batch:  23500 length: 23500  ... elapsed time since last batch:  0.014401435852050781\n",
      "Starting batch:  24000 length: 24000  ... elapsed time since last batch:  0.014241695404052734\n",
      "Starting batch:  24500 length: 24500  ... elapsed time since last batch:  0.013893842697143555\n",
      "Starting batch:  25000 length: 25000  ... elapsed time since last batch:  0.01414942741394043\n",
      "Starting batch:  25500 length: 25500  ... elapsed time since last batch:  0.014199018478393555\n",
      "Starting batch:  26000 length: 26000  ... elapsed time since last batch:  0.014372110366821289\n",
      "Starting batch:  26500 length: 26500  ... elapsed time since last batch:  0.014117240905761719\n",
      "Starting batch:  27000 length: 27000  ... elapsed time since last batch:  0.014298677444458008\n",
      "Starting batch:  27500 length: 27500  ... elapsed time since last batch:  0.014174222946166992\n",
      "Starting batch:  28000 length: 28000  ... elapsed time since last batch:  0.01485753059387207\n",
      "Starting batch:  28500 length: 28500  ... elapsed time since last batch:  0.015411376953125\n",
      "Starting batch:  29000 length: 29000  ... elapsed time since last batch:  0.014823198318481445\n",
      "Starting batch:  29500 length: 29500  ... elapsed time since last batch:  0.014516830444335938\n",
      "Starting batch:  30000 length: 30000  ... elapsed time since last batch:  0.01422572135925293\n",
      "Starting batch:  30500 length: 30500  ... elapsed time since last batch:  0.014010429382324219\n",
      "Starting batch:  31000 length: 31000  ... elapsed time since last batch:  0.01442718505859375\n",
      "Starting batch:  31500 length: 31500  ... elapsed time since last batch:  0.014080524444580078\n",
      "Starting batch:  32000 length: 32000  ... elapsed time since last batch:  0.014266252517700195\n",
      "Starting batch:  32500 length: 32500  ... elapsed time since last batch:  0.01413416862487793\n",
      "Starting batch:  33000 length: 33000  ... elapsed time since last batch:  0.01423501968383789\n",
      "Starting batch:  33500 length: 33500  ... elapsed time since last batch:  0.014123201370239258\n",
      "Starting batch:  34000 length: 34000  ... elapsed time since last batch:  0.014001846313476562\n",
      "Starting batch:  34500 length: 34500  ... elapsed time since last batch:  0.014183998107910156\n",
      "34799\n",
      "Execution time:  1.0883560180664062\n",
      "Original training size:  34799\n",
      "Augmented training size:  34799\n"
     ]
    }
   ],
   "source": [
    "import time\n",
    "import numpy as np\n",
    "import cv2\n",
    "\n",
    "start_time = time.time()\n",
    "print(len(X_train))\n",
    "#augmented_data = augment(X_train, y_train, classDict, classCounterDict)\n",
    "augmented_data = preprocess(X_train, y_train)\n",
    "end_time = time.time()\n",
    "print(len(augmented_data['features']))\n",
    "print(\"Execution time: \",end_time-start_time)\n",
    "print(\"Original training size: \", len(X_train))\n",
    "print(\"Augmented training size: \", len(augmented_data['features']))"
   ]
  },
  {
   "cell_type": "code",
   "execution_count": 16,
   "metadata": {
    "collapsed": true
   },
   "outputs": [],
   "source": [
    "X_train = augmented_data['features']\n",
    "X_train = np.expand_dims(X_train, axis=3)  # we do this to get the proper singleton shape in the 4th dimension\n",
    "\n",
    "#y_train_augmented = augmented_data['labels']\n",
    "\n",
    "#y_train_augmented = y_train"
   ]
  },
  {
   "cell_type": "code",
   "execution_count": 17,
   "metadata": {},
   "outputs": [
    {
     "data": {
      "text/plain": [
       "(32, 32, 1)"
      ]
     },
     "execution_count": 17,
     "metadata": {},
     "output_type": "execute_result"
    }
   ],
   "source": [
    "X_train[34798].shape"
   ]
  },
  {
   "cell_type": "code",
   "execution_count": 18,
   "metadata": {},
   "outputs": [
    {
     "data": {
      "text/plain": [
       "(4410, 32, 32, 1)"
      ]
     },
     "execution_count": 18,
     "metadata": {},
     "output_type": "execute_result"
    }
   ],
   "source": [
    "# Need to apply the same grayscaling and normalization to X_validation images\n",
    "X_validation_new = deque()\n",
    "for index, img in enumerate(X_validation, start=0):\n",
    "    \n",
    "    # grayscale it\n",
    "    grayscale = rgb2gray(img)\n",
    "            \n",
    "    # normalize it\n",
    "    normalized = normalize(grayscale)\n",
    "    \n",
    "    X_validation_new.append(normalized)\n",
    "\n",
    "X_validation = np.array(X_validation_new)\n",
    "X_validation = np.expand_dims(X_validation, axis=3)\n",
    "X_validation.shape"
   ]
  },
  {
   "cell_type": "code",
   "execution_count": 19,
   "metadata": {
    "collapsed": true
   },
   "outputs": [],
   "source": [
    "#Save the augmented data to a pickle file\n",
    "#myaugmented_file = '../../data/myaugmented.p'\n",
    "\n",
    "#with open(myaugmented_file, mode='wb') as f:\n",
    "#    pickle.dump(augmented_data,f)"
   ]
  },
  {
   "cell_type": "code",
   "execution_count": 20,
   "metadata": {
    "collapsed": true
   },
   "outputs": [],
   "source": [
    "#read_back_augmentation = '../../data/myaugmented.p'\n",
    "\n",
    "#with open(read_back_augmentation, mode='rb') as f:\n",
    "#    augmentation = pickle.load(f)\n",
    "    \n",
    "#X_aug, y_aug, sizes_aug, coords_aug = augmentation['features'], augmentation['labels'], augmentation['sizes'], augmentation['coords']\n",
    "\n",
    "#for i, img in enumerate(X_aug, start=0):\n",
    "#    plotImage(img, 'recall:'+str(i), 9999)"
   ]
  },
  {
   "cell_type": "markdown",
   "metadata": {},
   "source": [
    "## Setup TensorFlow\n",
    "The `EPOCH` and `BATCH_SIZE` values affect the training speed and model accuracy."
   ]
  },
  {
   "cell_type": "code",
   "execution_count": 21,
   "metadata": {
    "collapsed": true
   },
   "outputs": [],
   "source": [
    "import tensorflow as tf\n",
    "\n",
    "EPOCHS = 20 # initially 20\n",
    "BATCH_SIZE = 128 #default 128"
   ]
  },
  {
   "cell_type": "markdown",
   "metadata": {},
   "source": [
    "### Model Architecture"
   ]
  },
  {
   "cell_type": "markdown",
   "metadata": {
    "collapsed": true
   },
   "source": [
    "### Define your architecture here.\n",
    "### Feel free to use as many code cells as needed."
   ]
  },
  {
   "cell_type": "code",
   "execution_count": 22,
   "metadata": {
    "collapsed": true
   },
   "outputs": [],
   "source": [
    "from tensorflow.contrib.layers import flatten\n",
    "\n",
    "def CarNDNet(x):    \n",
    "    # Arguments used for tf.truncated_normal, randomly defines variables for the weights and biases for each layer\n",
    "    mu = 0 # start 0\n",
    "    sigma = 0.1 # start 0.1\n",
    "    \n",
    "    # SOLUTION: Layer 1: Convolutional. Input = 32x32x3. Output = 28x28x6.\n",
    "    conv1_W = tf.Variable(tf.truncated_normal(shape=(5, 5, 1, 6), mean = mu, stddev = sigma)) #3channel\n",
    "    conv1_b = tf.Variable(tf.zeros(6))\n",
    "    conv1   = tf.nn.conv2d(x, conv1_W, strides=[1, 1, 1, 1], padding='VALID') + conv1_b\n",
    "\n",
    "    # SOLUTION: Activation.\n",
    "    conv1 = tf.nn.relu(conv1)\n",
    "\n",
    "    # SOLUTION: Pooling. Input = 28x28x6. Output = 14x14x6.\n",
    "    conv1 = tf.nn.max_pool(conv1, ksize=[1, 2, 2, 1], strides=[1, 2, 2, 1], padding='VALID')\n",
    "\n",
    "    # SOLUTION: Layer 2: Convolutional. Output = 10x10x16.\n",
    "    conv2_W = tf.Variable(tf.truncated_normal(shape=(5, 5, 6, 16), mean = mu, stddev = sigma))\n",
    "    conv2_b = tf.Variable(tf.zeros(16))\n",
    "    conv2   = tf.nn.conv2d(conv1, conv2_W, strides=[1, 1, 1, 1], padding='VALID') + conv2_b\n",
    "    \n",
    "    # SOLUTION: Activation.\n",
    "    conv2 = tf.nn.relu(conv2)\n",
    "\n",
    "    # SOLUTION: Pooling. Input = 10x10x16. Output = 5x5x16.\n",
    "    conv2 = tf.nn.max_pool(conv2, ksize=[1, 2, 2, 1], strides=[1, 2, 2, 1], padding='VALID')\n",
    "\n",
    "    # SOLUTION: Flatten. Input = 5x5x16. Output = 400.\n",
    "    fc0   = flatten(conv2)\n",
    "    \n",
    "    # SOLUTION: Layer 3: Fully Connected. Input = 400. Output = 120.\n",
    "    fc1_W = tf.Variable(tf.truncated_normal(shape=(400, 120), mean = mu, stddev = sigma))\n",
    "    fc1_b = tf.Variable(tf.zeros(120))\n",
    "    fc1   = tf.matmul(fc0, fc1_W) + fc1_b\n",
    "    \n",
    "    # SOLUTION: Activation.\n",
    "    fc1    = tf.nn.relu(fc1)\n",
    "    \n",
    "    #jl Institute dropout policy as a countermeasure to overfitting\n",
    "    fc1 = tf.nn.dropout(fc1, keep_probability)\n",
    "\n",
    "    # SOLUTION: Layer 4: Fully Connected. Input = 120. Output = 84.\n",
    "    fc2_W  = tf.Variable(tf.truncated_normal(shape=(120, 84), mean = mu, stddev = sigma))\n",
    "    fc2_b  = tf.Variable(tf.zeros(84))\n",
    "    fc2    = tf.matmul(fc1, fc2_W) + fc2_b\n",
    "    \n",
    "    # SOLUTION: Activation.\n",
    "    fc2    = tf.nn.relu(fc2)\n",
    "    \n",
    "    #jl Institute dropout policy as a countermeasure to overfitting\n",
    "    fc2 = tf.nn.dropout(fc2, keep_probability)\n",
    "\n",
    "    # SOLUTION: Layer 5: Fully Connected. Input = 84. Output = 10. # 10 needs to change to 43\n",
    "    fc3_W  = tf.Variable(tf.truncated_normal(shape=(84, 43), mean = mu, stddev = sigma))\n",
    "    fc3_b  = tf.Variable(tf.zeros(43))\n",
    "    logits = tf.matmul(fc2, fc3_W) + fc3_b\n",
    "    \n",
    "    return logits"
   ]
  },
  {
   "cell_type": "markdown",
   "metadata": {},
   "source": [
    "## Features and Labels\n",
    "Train CarNDNet to classify traffic sign data data.\n",
    "\n",
    "`x` is a placeholder for a batch of input images.\n",
    "`y` is a placeholder for a batch of output labels."
   ]
  },
  {
   "cell_type": "code",
   "execution_count": 23,
   "metadata": {
    "collapsed": true
   },
   "outputs": [],
   "source": [
    "x = tf.placeholder(tf.float32, (None, 32, 32, 1))  #1channel\n",
    "y = tf.placeholder(tf.int32, (None))\n",
    "keep_probability = tf.placeholder(tf.float32) #jl intro keep probability variable for dropout use\n",
    "one_hot_y = tf.one_hot(y, 43)  # 43 classifications"
   ]
  },
  {
   "cell_type": "markdown",
   "metadata": {},
   "source": [
    "## Training Pipeline\n",
    "Create a training pipeline that uses the model to classify traffic sign data."
   ]
  },
  {
   "cell_type": "code",
   "execution_count": 24,
   "metadata": {
    "collapsed": true
   },
   "outputs": [],
   "source": [
    "rate = 0.0008 # start 0.001\n",
    "\n",
    "logits = CarNDNet(x)\n",
    "cross_entropy = tf.nn.softmax_cross_entropy_with_logits(labels=one_hot_y, logits=logits)\n",
    "loss_operation = tf.reduce_mean(cross_entropy)\n",
    "optimizer = tf.train.AdamOptimizer(learning_rate = rate)\n",
    "training_operation = optimizer.minimize(loss_operation)"
   ]
  },
  {
   "cell_type": "markdown",
   "metadata": {},
   "source": [
    "### Train, Validate and Test the Model"
   ]
  },
  {
   "cell_type": "markdown",
   "metadata": {},
   "source": [
    "A validation set can be used to assess how well the model is performing. A low accuracy on the training and validation\n",
    "sets imply underfitting. A high accuracy on the training set but low accuracy on the validation set implies overfitting."
   ]
  },
  {
   "cell_type": "code",
   "execution_count": 25,
   "metadata": {
    "collapsed": true
   },
   "outputs": [],
   "source": [
    "### Train your model here.\n",
    "### Calculate and report the accuracy on the training and validation set.\n",
    "### Once a final model architecture is selected, \n",
    "### the accuracy on the test set should be calculated and reported as well.\n",
    "### Feel free to use as many code cells as needed."
   ]
  },
  {
   "cell_type": "code",
   "execution_count": 26,
   "metadata": {},
   "outputs": [
    {
     "data": {
      "text/plain": [
       "(34799, 32, 32, 1)"
      ]
     },
     "execution_count": 26,
     "metadata": {},
     "output_type": "execute_result"
    }
   ],
   "source": [
    "X_train.shape"
   ]
  },
  {
   "cell_type": "code",
   "execution_count": 27,
   "metadata": {
    "collapsed": true
   },
   "outputs": [],
   "source": [
    "correct_prediction = tf.equal(tf.argmax(logits, 1), tf.argmax(one_hot_y, 1))\n",
    "accuracy_operation = tf.reduce_mean(tf.cast(correct_prediction, tf.float32))\n",
    "saver = tf.train.Saver()\n",
    "\n",
    "def evaluate(X_data, y_data):\n",
    "    num_examples = len(X_data)\n",
    "    total_accuracy = 0\n",
    "    sess = tf.get_default_session()\n",
    "    for offset in range(0, num_examples, BATCH_SIZE):\n",
    "        batch_x, batch_y = X_data[offset:offset+BATCH_SIZE], y_data[offset:offset+BATCH_SIZE]\n",
    "        accuracy = sess.run(accuracy_operation, feed_dict={x: batch_x, y: batch_y, keep_probability: 1.0})\n",
    "        #accuracy = sess.run(accuracy_operation, feed_dict={x: batch_x, y: batch_y})\n",
    "        total_accuracy += (accuracy * len(batch_x))\n",
    "    return total_accuracy / num_examples"
   ]
  },
  {
   "cell_type": "code",
   "execution_count": null,
   "metadata": {},
   "outputs": [
    {
     "name": "stdout",
     "output_type": "stream",
     "text": [
      "Training...\n",
      "\n",
      "EPOCH 1 ...\n",
      "Validation Accuracy = 0.727\n",
      "\n",
      "EPOCH 2 ...\n",
      "Validation Accuracy = 0.841\n",
      "\n",
      "EPOCH 3 ...\n",
      "Validation Accuracy = 0.882\n",
      "\n",
      "EPOCH 4 ...\n",
      "Validation Accuracy = 0.895\n",
      "\n",
      "EPOCH 5 ...\n",
      "Validation Accuracy = 0.906\n",
      "\n",
      "EPOCH 6 ...\n",
      "Validation Accuracy = 0.925\n",
      "\n",
      "EPOCH 7 ...\n",
      "Validation Accuracy = 0.925\n",
      "\n",
      "EPOCH 8 ...\n",
      "Validation Accuracy = 0.932\n",
      "\n",
      "EPOCH 9 ...\n",
      "Validation Accuracy = 0.925\n",
      "\n",
      "EPOCH 10 ...\n",
      "Validation Accuracy = 0.944\n",
      "\n"
     ]
    }
   ],
   "source": [
    "from sklearn.utils import shuffle\n",
    "import time\n",
    "\n",
    "logs_path=\"/tmp/tensorflow\"\n",
    "\n",
    "tf.summary.scalar(\"cost\", cross_entropy)\n",
    "tf.summary.scalar(\"accuracy\", accuracy_operation)\n",
    "summary_op = tf.summary.merge_all()\n",
    "\n",
    "\n",
    "with tf.Session(config=tf.ConfigProto(log_device_placement=True)) as sess:\n",
    "    sess.run(tf.global_variables_initializer())\n",
    "    num_examples = len(X_train)\n",
    "    \n",
    "    writer = tf.summary.FileWriter(logs_path, graph=tf.get_default_graph())\n",
    "    \n",
    "    print(\"Training...\")\n",
    "    starttime = time.time()\n",
    "    print()\n",
    "    for i in range(EPOCHS):\n",
    "        X_train, y_train = shuffle(X_train, y_train)\n",
    "        for offset in range(0, num_examples, BATCH_SIZE):\n",
    "            end = offset + BATCH_SIZE\n",
    "            batch_x, batch_y = X_train[offset:end], y_train[offset:end]\n",
    "            #jl [_, summary] = sess.run([training_operation, summary_op], feed_dict={x: batch_x, y: batch_y})\n",
    "            #jl writer.add_summary(summary, i * BATCH_SIZE + offset)\n",
    "            sess.run(training_operation, feed_dict={x: batch_x, y: batch_y, keep_probability: 0.8})\n",
    "            #sess.run(training_operation, feed_dict={x: batch_x, y: batch_y})       \n",
    "        validation_accuracy = evaluate(X_validation, y_validation)\n",
    "        print(\"EPOCH {} ...\".format(i+1))\n",
    "        print(\"Validation Accuracy = {:.3f}\".format(validation_accuracy))\n",
    "        print()\n",
    "    print(time.time()-starttime)    \n",
    "    saver.save(sess, './carndnet')\n",
    "    print(\"Model saved\")"
   ]
  },
  {
   "cell_type": "markdown",
   "metadata": {},
   "source": [
    "---\n",
    "\n",
    "## Step 3: Test a Model on New Images\n",
    "\n",
    "To give yourself more insight into how your model is working, download at least five pictures of German traffic signs from the web and use your model to predict the traffic sign type.\n",
    "\n",
    "You may find `signnames.csv` useful as it contains mappings from the class id (integer) to the actual sign name."
   ]
  },
  {
   "cell_type": "markdown",
   "metadata": {},
   "source": [
    "### Load and Output the Images"
   ]
  },
  {
   "cell_type": "code",
   "execution_count": null,
   "metadata": {
    "collapsed": true
   },
   "outputs": [],
   "source": [
    "### Load the images and plot them here.\n",
    "### Feel free to use as many code cells as needed."
   ]
  },
  {
   "cell_type": "markdown",
   "metadata": {},
   "source": [
    "### Predict the Sign Type for Each Image"
   ]
  },
  {
   "cell_type": "code",
   "execution_count": null,
   "metadata": {
    "collapsed": true
   },
   "outputs": [],
   "source": [
    "### Run the predictions here and use the model to output the prediction for each image.\n",
    "### Make sure to pre-process the images with the same pre-processing pipeline used earlier.\n",
    "### Feel free to use as many code cells as needed."
   ]
  },
  {
   "cell_type": "markdown",
   "metadata": {},
   "source": [
    "### Analyze Performance"
   ]
  },
  {
   "cell_type": "code",
   "execution_count": null,
   "metadata": {
    "collapsed": true
   },
   "outputs": [],
   "source": [
    "### Calculate the accuracy for these 5 new images. \n",
    "### For example, if the model predicted 1 out of 5 signs correctly, it's 20% accurate on these new images."
   ]
  },
  {
   "cell_type": "markdown",
   "metadata": {},
   "source": [
    "### Output Top 5 Softmax Probabilities For Each Image Found on the Web"
   ]
  },
  {
   "cell_type": "markdown",
   "metadata": {},
   "source": [
    "For each of the new images, print out the model's softmax probabilities to show the **certainty** of the model's predictions (limit the output to the top 5 probabilities for each image). [`tf.nn.top_k`](https://www.tensorflow.org/versions/r0.12/api_docs/python/nn.html#top_k) could prove helpful here. \n",
    "\n",
    "The example below demonstrates how tf.nn.top_k can be used to find the top k predictions for each image.\n",
    "\n",
    "`tf.nn.top_k` will return the values and indices (class ids) of the top k predictions. So if k=3, for each sign, it'll return the 3 largest probabilities (out of a possible 43) and the correspoding class ids.\n",
    "\n",
    "Take this numpy array as an example. The values in the array represent predictions. The array contains softmax probabilities for five candidate images with six possible classes. `tk.nn.top_k` is used to choose the three classes with the highest probability:\n",
    "\n",
    "```\n",
    "# (5, 6) array\n",
    "a = np.array([[ 0.24879643,  0.07032244,  0.12641572,  0.34763842,  0.07893497,\n",
    "         0.12789202],\n",
    "       [ 0.28086119,  0.27569815,  0.08594638,  0.0178669 ,  0.18063401,\n",
    "         0.15899337],\n",
    "       [ 0.26076848,  0.23664738,  0.08020603,  0.07001922,  0.1134371 ,\n",
    "         0.23892179],\n",
    "       [ 0.11943333,  0.29198961,  0.02605103,  0.26234032,  0.1351348 ,\n",
    "         0.16505091],\n",
    "       [ 0.09561176,  0.34396535,  0.0643941 ,  0.16240774,  0.24206137,\n",
    "         0.09155967]])\n",
    "```\n",
    "\n",
    "Running it through `sess.run(tf.nn.top_k(tf.constant(a), k=3))` produces:\n",
    "\n",
    "```\n",
    "TopKV2(values=array([[ 0.34763842,  0.24879643,  0.12789202],\n",
    "       [ 0.28086119,  0.27569815,  0.18063401],\n",
    "       [ 0.26076848,  0.23892179,  0.23664738],\n",
    "       [ 0.29198961,  0.26234032,  0.16505091],\n",
    "       [ 0.34396535,  0.24206137,  0.16240774]]), indices=array([[3, 0, 5],\n",
    "       [0, 1, 4],\n",
    "       [0, 5, 1],\n",
    "       [1, 3, 5],\n",
    "       [1, 4, 3]], dtype=int32))\n",
    "```\n",
    "\n",
    "Looking just at the first row we get `[ 0.34763842,  0.24879643,  0.12789202]`, you can confirm these are the 3 largest probabilities in `a`. You'll also notice `[3, 0, 5]` are the corresponding indices."
   ]
  },
  {
   "cell_type": "code",
   "execution_count": null,
   "metadata": {
    "collapsed": true
   },
   "outputs": [],
   "source": [
    "### Print out the top five softmax probabilities for the predictions on the German traffic sign images found on the web. \n",
    "### Feel free to use as many code cells as needed."
   ]
  },
  {
   "cell_type": "markdown",
   "metadata": {},
   "source": [
    "### Project Writeup\n",
    "\n",
    "Once you have completed the code implementation, document your results in a project writeup using this [template](https://github.com/udacity/CarND-Traffic-Sign-Classifier-Project/blob/master/writeup_template.md) as a guide. The writeup can be in a markdown or pdf file. "
   ]
  },
  {
   "cell_type": "markdown",
   "metadata": {},
   "source": [
    "> **Note**: Once you have completed all of the code implementations and successfully answered each question above, you may finalize your work by exporting the iPython Notebook as an HTML document. You can do this by using the menu above and navigating to  \\n\",\n",
    "    \"**File -> Download as -> HTML (.html)**. Include the finished document along with this notebook as your submission."
   ]
  },
  {
   "cell_type": "markdown",
   "metadata": {},
   "source": [
    "---\n",
    "\n",
    "## Step 4 (Optional): Visualize the Neural Network's State with Test Images\n",
    "\n",
    " This Section is not required to complete but acts as an additional excersise for understaning the output of a neural network's weights. While neural networks can be a great learning device they are often referred to as a black box. We can understand what the weights of a neural network look like better by plotting their feature maps. After successfully training your neural network you can see what it's feature maps look like by plotting the output of the network's weight layers in response to a test stimuli image. From these plotted feature maps, it's possible to see what characteristics of an image the network finds interesting. For a sign, maybe the inner network feature maps react with high activation to the sign's boundary outline or to the contrast in the sign's painted symbol.\n",
    "\n",
    " Provided for you below is the function code that allows you to get the visualization output of any tensorflow weight layer you want. The inputs to the function should be a stimuli image, one used during training or a new one you provided, and then the tensorflow variable name that represents the layer's state during the training process, for instance if you wanted to see what the [LeNet lab's](https://classroom.udacity.com/nanodegrees/nd013/parts/fbf77062-5703-404e-b60c-95b78b2f3f9e/modules/6df7ae49-c61c-4bb2-a23e-6527e69209ec/lessons/601ae704-1035-4287-8b11-e2c2716217ad/concepts/d4aca031-508f-4e0b-b493-e7b706120f81) feature maps looked like for it's second convolutional layer you could enter conv2 as the tf_activation variable.\n",
    "\n",
    "For an example of what feature map outputs look like, check out NVIDIA's results in their paper [End-to-End Deep Learning for Self-Driving Cars](https://devblogs.nvidia.com/parallelforall/deep-learning-self-driving-cars/) in the section Visualization of internal CNN State. NVIDIA was able to show that their network's inner weights had high activations to road boundary lines by comparing feature maps from an image with a clear path to one without. Try experimenting with a similar test to show that your trained network's weights are looking for interesting features, whether it's looking at differences in feature maps from images with or without a sign, or even what feature maps look like in a trained network vs a completely untrained one on the same sign image.\n",
    "\n",
    "<figure>\n",
    " <img src=\"visualize_cnn.png\" width=\"380\" alt=\"Combined Image\" />\n",
    " <figcaption>\n",
    " <p></p> \n",
    " <p style=\"text-align: center;\"> Your output should look something like this (above)</p> \n",
    " </figcaption>\n",
    "</figure>\n",
    " <p></p> \n"
   ]
  },
  {
   "cell_type": "code",
   "execution_count": null,
   "metadata": {
    "collapsed": true
   },
   "outputs": [],
   "source": [
    "### Visualize your network's feature maps here.\n",
    "### Feel free to use as many code cells as needed.\n",
    "\n",
    "# image_input: the test image being fed into the network to produce the feature maps\n",
    "# tf_activation: should be a tf variable name used during your training procedure that represents the calculated state of a specific weight layer\n",
    "# activation_min/max: can be used to view the activation contrast in more detail, by default matplot sets min and max to the actual min and max values of the output\n",
    "# plt_num: used to plot out multiple different weight feature map sets on the same block, just extend the plt number for each new feature map entry\n",
    "\n",
    "def outputFeatureMap(image_input, tf_activation, activation_min=-1, activation_max=-1 ,plt_num=1):\n",
    "    # Here make sure to preprocess your image_input in a way your network expects\n",
    "    # with size, normalization, ect if needed\n",
    "    # image_input =\n",
    "    # Note: x should be the same name as your network's tensorflow data placeholder variable\n",
    "    # If you get an error tf_activation is not defined it may be having trouble accessing the variable from inside a function\n",
    "    activation = tf_activation.eval(session=sess,feed_dict={x : image_input})\n",
    "    featuremaps = activation.shape[3]\n",
    "    plt.figure(plt_num, figsize=(15,15))\n",
    "    for featuremap in range(featuremaps):\n",
    "        plt.subplot(6,8, featuremap+1) # sets the number of feature maps to show on each row and column\n",
    "        plt.title('FeatureMap ' + str(featuremap)) # displays the feature map number\n",
    "        if activation_min != -1 & activation_max != -1:\n",
    "            plt.imshow(activation[0,:,:, featuremap], interpolation=\"nearest\", vmin =activation_min, vmax=activation_max, cmap=\"gray\")\n",
    "        elif activation_max != -1:\n",
    "            plt.imshow(activation[0,:,:, featuremap], interpolation=\"nearest\", vmax=activation_max, cmap=\"gray\")\n",
    "        elif activation_min !=-1:\n",
    "            plt.imshow(activation[0,:,:, featuremap], interpolation=\"nearest\", vmin=activation_min, cmap=\"gray\")\n",
    "        else:\n",
    "            plt.imshow(activation[0,:,:, featuremap], interpolation=\"nearest\", cmap=\"gray\")"
   ]
  }
 ],
 "metadata": {
  "anaconda-cloud": {},
  "kernelspec": {
   "display_name": "Python 3",
   "language": "python",
   "name": "python3"
  },
  "language_info": {
   "codemirror_mode": {
    "name": "ipython",
    "version": 3
   },
   "file_extension": ".py",
   "mimetype": "text/x-python",
   "name": "python",
   "nbconvert_exporter": "python",
   "pygments_lexer": "ipython3",
   "version": "3.5.2"
  }
 },
 "nbformat": 4,
 "nbformat_minor": 1
}
